{
 "cells": [
  {
   "cell_type": "markdown",
   "id": "651a1685-9216-43b2-a9ec-68e5156f0f07",
   "metadata": {},
   "source": [
    "# Numpy Basics"
   ]
  },
  {
   "cell_type": "code",
   "execution_count": 1,
   "id": "68304e55-f90d-4cd3-9e3d-46a71ba08bfa",
   "metadata": {},
   "outputs": [],
   "source": [
    "import numpy as np"
   ]
  },
  {
   "cell_type": "markdown",
   "id": "ee7859f8-1d81-4052-ace7-c6dfff293422",
   "metadata": {},
   "source": [
    "*code below is the most basic thing numpy can do*"
   ]
  },
  {
   "cell_type": "code",
   "execution_count": 2,
   "id": "68d3fe3c-6b5c-4643-91ef-037a2b10fe53",
   "metadata": {},
   "outputs": [
    {
     "name": "stdout",
     "output_type": "stream",
     "text": [
      "[1 2 3 4 5]\n"
     ]
    }
   ],
   "source": [
    "arr=np.array([1,2,3,4,5])\n",
    "print(arr)"
   ]
  },
  {
   "cell_type": "markdown",
   "id": "0abdf645-27e1-419a-8043-6222a80639ec",
   "metadata": {},
   "source": [
    "*checking numpy version*"
   ]
  },
  {
   "cell_type": "code",
   "execution_count": 3,
   "id": "14c82c8c-834c-4ad4-b06f-e389f365b09c",
   "metadata": {},
   "outputs": [
    {
     "name": "stdout",
     "output_type": "stream",
     "text": [
      "1.26.4\n"
     ]
    }
   ],
   "source": [
    "print(np.__version__)"
   ]
  },
  {
   "cell_type": "markdown",
   "id": "09369cfe-9089-440f-b4c2-2734be5926cf",
   "metadata": {},
   "source": [
    "### Create a NumPy ndarray Object"
   ]
  },
  {
   "cell_type": "code",
   "execution_count": 4,
   "id": "e2cc738f-2424-4006-81dc-1deb74d39c23",
   "metadata": {},
   "outputs": [
    {
     "name": "stdout",
     "output_type": "stream",
     "text": [
      "[1 2 3 4 5]\n",
      "<class 'numpy.ndarray'>\n"
     ]
    }
   ],
   "source": [
    "print(arr)\n",
    "print(type(arr))"
   ]
  },
  {
   "cell_type": "markdown",
   "id": "5e90fed1-2646-45b9-9bf3-196759f21572",
   "metadata": {},
   "source": [
    "*type(): This built-in Python function tells us the type of the object passed to it. Like in above code it shows that arr is numpy.ndarray type.*"
   ]
  },
  {
   "cell_type": "markdown",
   "id": "4e649d09-067f-48ff-9e21-9b6d9d2b86b4",
   "metadata": {},
   "source": [
    "### 0-D Arrays\n",
    "*\n",
    "0-D arrays, or Scalars, are the elements in an array. Each value in an array is a 0-D array.*"
   ]
  },
  {
   "cell_type": "code",
   "execution_count": 5,
   "id": "47dfbf31-dd8b-433a-9aea-4dbf102c7ff2",
   "metadata": {},
   "outputs": [
    {
     "name": "stdout",
     "output_type": "stream",
     "text": [
      "34\n"
     ]
    }
   ],
   "source": [
    "arr0=np.array(34)\n",
    "print (arr0)"
   ]
  },
  {
   "cell_type": "markdown",
   "id": "faa8eafc-60f5-407e-8ced-071195e9a743",
   "metadata": {},
   "source": [
    "## 1-D Arrays\r",
    "#### \n",
    "An array that has 0-D arrays as its elements is called uni-dimensional or 1-D arra.\n",
    "\r\n",
    "These are the most common and basic arrays."
   ]
  },
  {
   "cell_type": "code",
   "execution_count": 6,
   "id": "5527418f-8254-41f6-b5c9-83313e027677",
   "metadata": {},
   "outputs": [
    {
     "name": "stdout",
     "output_type": "stream",
     "text": [
      "[ 1  2  3  4  5  6  7  8  9 10]\n"
     ]
    }
   ],
   "source": [
    "arr1=np.array((1,2,3,4,5,6,7,8,9,10))\n",
    "print (arr1)"
   ]
  },
  {
   "cell_type": "markdown",
   "id": "23622841-1848-48f2-8a8f-8162990b183e",
   "metadata": {},
   "source": [
    "*similarly the format is same for 2D and 3D arrays too*"
   ]
  },
  {
   "cell_type": "code",
   "execution_count": 7,
   "id": "597bb920-9ecf-484b-b2bf-92302619934d",
   "metadata": {},
   "outputs": [
    {
     "name": "stdout",
     "output_type": "stream",
     "text": [
      "this is a 2D array\n",
      "[[1 2 3]\n",
      " [4 5 6]]\n",
      "this is a 3D array\n",
      "[[[ 1  2  3]\n",
      "  [ 4  5  6]]\n",
      "\n",
      " [[ 7  8  9]\n",
      "  [10 11 12]]]\n"
     ]
    }
   ],
   "source": [
    "arr2=np.array([[1,2,3],[4,5,6]])\n",
    "arr3=np.array([[[1,2,3],[4,5,6]],[[7,8,9],[10,11,12]]])\n",
    "print('this is a 2D array')\n",
    "print (arr2)\n",
    "print('this is a 3D array')\n",
    "print (arr3)"
   ]
  },
  {
   "cell_type": "markdown",
   "id": "93a80bc7-ac17-4a0c-bd4d-f5776e434194",
   "metadata": {},
   "source": [
    "## Check number of divisions"
   ]
  },
  {
   "cell_type": "markdown",
   "id": "5315588a-8434-4893-885e-b23d7618e426",
   "metadata": {},
   "source": [
    "*NumPy Arrays provides the ndim attribute that returns an integer that tells us how many dimensions the array have.*"
   ]
  },
  {
   "cell_type": "code",
   "execution_count": 8,
   "id": "ca5162e5-e5c0-4278-a381-35b944d300e0",
   "metadata": {},
   "outputs": [
    {
     "name": "stdout",
     "output_type": "stream",
     "text": [
      "3\n"
     ]
    }
   ],
   "source": [
    "d = np.array([[[1, 2, 3], [4, 5, 6]], [[1, 2, 3], [4, 5, 6]]])\n",
    "print(d.ndim)"
   ]
  },
  {
   "cell_type": "markdown",
   "id": "e0b2fc32-26bb-44eb-aabe-f0afe5d2cca6",
   "metadata": {},
   "source": [
    "## Negative Indexing"
   ]
  },
  {
   "cell_type": "markdown",
   "id": "304d38c6-44f7-43af-8a1e-9fad91b6f986",
   "metadata": {},
   "source": [
    "*Use negative indexing to access an array from the end.*"
   ]
  },
  {
   "cell_type": "markdown",
   "id": "896b3bd3-c28d-409f-ac4d-89a276b47287",
   "metadata": {},
   "source": [
    "arrlast = np.array([[1,2,3,4,5], [6,7,8,9,12]])\n",
    "print('Last element from 2nd dim: ', arrlast[1, -1])"
   ]
  },
  {
   "cell_type": "markdown",
   "id": "ebcc7193-e2e5-493d-827e-c8964ab52501",
   "metadata": {},
   "source": [
    "## Creating Arrays With a Defined Data Type"
   ]
  },
  {
   "cell_type": "markdown",
   "id": "dafe8f84-1bb0-49bc-acf9-93346517d83e",
   "metadata": {},
   "source": [
    "*We use the array() function to create arrays, this function can take an optional argument: dtype that allows us to define the expected data type of the array elements:*"
   ]
  },
  {
   "cell_type": "code",
   "execution_count": 12,
   "id": "96728a82-1d00-48d3-a902-cebb031ccc80",
   "metadata": {},
   "outputs": [
    {
     "name": "stdout",
     "output_type": "stream",
     "text": [
      "|S4\n"
     ]
    }
   ],
   "source": [
    "arrdp=np.array([1,2,3,4,5,6],dtype='S4')\n",
    "print(arrdp.dtype)"
   ]
  },
  {
   "cell_type": "markdown",
   "id": "eae5ae4a-dcec-49e9-94ab-aa0d6ec820c6",
   "metadata": {},
   "source": [
    "## Converting Data Type on Existing Arrays"
   ]
  },
  {
   "cell_type": "markdown",
   "id": "d12d80bc-8883-453e-b140-dc4fc9261a1a",
   "metadata": {},
   "source": [
    "The best way to change the data type of an existing array, is to make a copy of the array with the astype() method.\n",
    "\r\n",
    "The astype() function creates a copy of the array, and allows you to specify the data type as a paramete.\r\n",
    "\r\n",
    "The data type can be specified using a string, like 'f' for float, 'i' for integer etc. or you can use the data type directly like float for float and int for inteer.*"
   ]
  },
  {
   "cell_type": "code",
   "execution_count": 17,
   "id": "e613dbfd-1df7-4544-8027-607676a73905",
   "metadata": {},
   "outputs": [
    {
     "name": "stdout",
     "output_type": "stream",
     "text": [
      "[1 2 3]\n",
      "int32\n"
     ]
    }
   ],
   "source": [
    "import numpy as np\n",
    "\n",
    "arr = np.array([1.1, 2.1, 3.1])\n",
    "\n",
    "newarr = arr.astype('i')\n",
    "\n",
    "print(newarr)\n",
    "print(newarr.dtype)"
   ]
  },
  {
   "cell_type": "markdown",
   "id": "bd065939-e196-4997-ba0b-53e09f83a398",
   "metadata": {},
   "source": [
    "## Reshaping arrays"
   ]
  },
  {
   "cell_type": "markdown",
   "id": "df92ff96-e6c9-4121-a681-33c69f753e3f",
   "metadata": {},
   "source": [
    "*reshaping 1D array to 2D array*"
   ]
  },
  {
   "cell_type": "code",
   "execution_count": 19,
   "id": "79f5f28a-4f95-49a3-bd7f-b50c31b479f8",
   "metadata": {},
   "outputs": [
    {
     "name": "stdout",
     "output_type": "stream",
     "text": [
      "[[1 2 3]\n",
      " [4 5 6]\n",
      " [7 8 9]]\n"
     ]
    }
   ],
   "source": [
    "resh=np.array([1,2,3,4,5,6,7,8,9])\n",
    "newresh=resh.reshape(3,3)\n",
    "print (newresh)"
   ]
  },
  {
   "cell_type": "code",
   "execution_count": 33,
   "id": "ec3bca7e-b0cd-4837-bf23-2e07d5127a4d",
   "metadata": {},
   "outputs": [
    {
     "name": "stdout",
     "output_type": "stream",
     "text": [
      "[[[ 1  2  3  4  5  6]\n",
      "  [ 7  8  9 10 11 12]]\n",
      "\n",
      " [[13 14 15 16 17 18]\n",
      "  [19 20 21 22 23 24]]\n",
      "\n",
      " [[25 26 27 28 29 30]\n",
      "  [31 32 33 34 35 36]]]\n"
     ]
    }
   ],
   "source": [
    "resh=np.array([1,2,3,4,5,6,7,8,9,10,11,12,13,14,15,16,17,18,19,20,21,22,23,24,25,26,27,28,29,30,31,32,33,34,35,36])\n",
    "newresh=resh.reshape(3,2,6)\n",
    "print (newresh)"
   ]
  },
  {
   "cell_type": "markdown",
   "id": "38d61aba-1e26-49a2-b37e-17fbe36ba084",
   "metadata": {},
   "source": [
    "## Flattening the array"
   ]
  },
  {
   "cell_type": "markdown",
   "id": "3e647a86-40a5-448e-90f4-331b1b2329e7",
   "metadata": {},
   "source": [
    "*converting multidimensional arrays into 1D array*"
   ]
  },
  {
   "cell_type": "code",
   "execution_count": 34,
   "id": "25778a7d-f7c7-432e-8b7e-1f9d14904ea0",
   "metadata": {},
   "outputs": [
    {
     "name": "stdout",
     "output_type": "stream",
     "text": [
      "[ 1  2  3  4  5  6  7  8  9 10 11 12 13 14 15 16 17 18 19 20 21 22 23 24\n",
      " 25 26 27 28 29 30 31 32 33 34 35 36]\n"
     ]
    }
   ],
   "source": [
    "nnewresh=newresh.reshape(-1)\n",
    "print (nnewresh)"
   ]
  },
  {
   "cell_type": "markdown",
   "id": "1858fc42-34c0-4409-97ee-ada138af4157",
   "metadata": {},
   "source": [
    "## Concatenating Arrays"
   ]
  },
  {
   "cell_type": "code",
   "execution_count": 37,
   "id": "626a20f9-8f4f-4061-a202-9a13f7111fb8",
   "metadata": {},
   "outputs": [
    {
     "name": "stdout",
     "output_type": "stream",
     "text": [
      "[ 1.1  2.1  3.1  1.   2.   3.   4.   5.   6.   7.   8.   9.  10.  11.\n",
      " 12.  13.  14.  15.  16.  17.  18.  19.  20.  21.  22.  23.  24.  25.\n",
      " 26.  27.  28.  29.  30.  31.  32.  33.  34.  35.  36. ]\n"
     ]
    }
   ],
   "source": [
    "carray=np.concatenate((arr,resh))\n",
    "print (carray)"
   ]
  },
  {
   "cell_type": "markdown",
   "id": "e34605d9-f6ec-4749-9819-ddf24779a5ea",
   "metadata": {},
   "source": [
    "## Array Stacking"
   ]
  },
  {
   "cell_type": "code",
   "execution_count": 55,
   "id": "35af6dca-36b9-4c19-8a59-6ff8a6ebd09e",
   "metadata": {},
   "outputs": [
    {
     "name": "stdout",
     "output_type": "stream",
     "text": [
      "[[1 5]\n",
      " [2 6]\n",
      " [3 7]\n",
      " [4 8]]\n",
      "[1 2 3 4 5 6 7 8]\n",
      "[[1 2 3 4]\n",
      " [5 6 7 8]]\n",
      "[[[1 5]\n",
      "  [2 6]\n",
      "  [3 7]\n",
      "  [4 8]]]\n"
     ]
    }
   ],
   "source": [
    "a=np.array([1,2,3,4])\n",
    "b=np.array([5,6,7,8])\n",
    "c=np.stack((a,b),axis=1) #STACK AROUND ROWS\n",
    "d=np.hstack((a,b)) #HORIZONTAL STACK\n",
    "e=np.vstack((a,b))#STACK AROUND COLUMNS\n",
    "f=np.dstack((a,b))\n",
    "print (c)\n",
    "print (d)\n",
    "print (e)\n",
    "print (f)"
   ]
  },
  {
   "cell_type": "markdown",
   "id": "909bc5d1-5341-4ec1-8e65-d79c6bd18f98",
   "metadata": {},
   "source": [
    "## Array Splitting"
   ]
  },
  {
   "cell_type": "markdown",
   "id": "e5df85f5-2a50-4c32-9418-e2bb70c2b65e",
   "metadata": {},
   "source": [
    "*We can split the arrays using array_split() functions*"
   ]
  },
  {
   "cell_type": "code",
   "execution_count": 57,
   "id": "01710cf5-e45a-4c8e-a81c-b116e6390089",
   "metadata": {},
   "outputs": [
    {
     "name": "stdout",
     "output_type": "stream",
     "text": [
      "[array([1, 2, 3, 4, 5, 6, 7, 8, 9]), array([10, 11, 12, 13, 14, 15, 16, 17, 18]), array([19, 20, 21, 22, 23, 24, 25, 26, 27]), array([28, 29, 30, 31, 32, 33, 34, 35, 36])]\n"
     ]
    }
   ],
   "source": [
    "splitresh=np.array_split(resh,4)\n",
    "print (splitresh)"
   ]
  },
  {
   "cell_type": "markdown",
   "id": "44bcc4bc-cf23-467c-a64b-714a408d6a22",
   "metadata": {},
   "source": [
    "*You can call each of the splited arrays accordingly*"
   ]
  },
  {
   "cell_type": "code",
   "execution_count": 60,
   "id": "b8b3c202-c308-48c8-b279-77da2029aa70",
   "metadata": {},
   "outputs": [
    {
     "name": "stdout",
     "output_type": "stream",
     "text": [
      "[1 2 3 4 5 6 7 8 9]\n",
      "[10 11 12 13 14 15 16 17 18]\n",
      "[19 20 21 22 23 24 25 26 27]\n",
      "[28 29 30 31 32 33 34 35 36]\n"
     ]
    }
   ],
   "source": [
    "print (splitresh[0])\n",
    "print (splitresh[1])\n",
    "print (splitresh[2])\n",
    "print (splitresh[3])"
   ]
  },
  {
   "cell_type": "markdown",
   "id": "915223d6-9970-4f88-8242-76a98ac2b937",
   "metadata": {},
   "source": [
    "## Searching Arrays"
   ]
  },
  {
   "cell_type": "markdown",
   "id": "b7297819-2d09-498a-b368-1cc72a559828",
   "metadata": {},
   "source": [
    "*where() method helps us find shit*"
   ]
  },
  {
   "cell_type": "code",
   "execution_count": 73,
   "id": "4dde37e3-edd1-422f-9e88-a4b122f561cc",
   "metadata": {},
   "outputs": [
    {
     "name": "stdout",
     "output_type": "stream",
     "text": [
      "indexes where odd numbers are:  (array([0, 2, 4, 6], dtype=int64),)\n",
      "indexes where Even numbers are:  (array([1, 3, 5, 7], dtype=int64),)\n"
     ]
    }
   ],
   "source": [
    "import numpy as np\n",
    "prj = np.array([1, 2, 3, 4, 5, 6, 7, 8])\n",
    "x = np.where(prj%2 == 1)\n",
    "print('indexes where odd numbers are: ',x)\n",
    "y=np.where(prj%2==0)\n",
    "print('indexes where Even numbers are: ',y)"
   ]
  },
  {
   "cell_type": "markdown",
   "id": "917f6357-5131-44b2-975e-1f8460d82b85",
   "metadata": {},
   "source": [
    "*There is a method called searchsorted() which performs a binary search in the array, and returns the index where the specified value would be inserted to maintain the search order.*"
   ]
  },
  {
   "cell_type": "markdown",
   "id": "f1036354-5670-42d7-811b-39a965b7a0be",
   "metadata": {},
   "source": [
    "*The searchsorted() method is assumed to be used on sorted arrays.*"
   ]
  },
  {
   "cell_type": "code",
   "execution_count": 86,
   "id": "53f17a73-e95a-4ffa-ae75-fa5c16e134ba",
   "metadata": {},
   "outputs": [
    {
     "name": "stdout",
     "output_type": "stream",
     "text": [
      "the index value where number 6 is stored is:  5\n",
      "the index value where number 6 is stored from the right is:  9\n",
      "[ 1  2  3  4  5  6  7  8  9 10 11 12 13 14 15 16 17 18 19 20 21 22 23 24\n",
      " 25 26 27 28 29 30 31 32 33 34 35 36]\n"
     ]
    }
   ],
   "source": [
    "z=np.searchsorted(resh,6)\n",
    "k=np.searchsorted(resh,9,side='right')\n",
    "print('the index value where number 6 is stored is: ',z)\n",
    "print('the index value where number 6 is stored from the right is: ',k)\n",
    "print(resh)"
   ]
  },
  {
   "cell_type": "markdown",
   "id": "fc4a4243-bf58-42b2-b2cd-2216d5899cdd",
   "metadata": {},
   "source": [
    "## Sorting Arrays"
   ]
  },
  {
   "cell_type": "markdown",
   "id": "a2b9ef80-a529-411b-8657-a64450645ac9",
   "metadata": {},
   "source": [
    "*The NumPy ndarray object has a function called sort(), that will sort a specified array.*"
   ]
  },
  {
   "cell_type": "code",
   "execution_count": 97,
   "id": "e22445d2-a543-4916-89dd-43662582c06b",
   "metadata": {},
   "outputs": [
    {
     "name": "stdout",
     "output_type": "stream",
     "text": [
      "[  2   3   4  12  24  32  34  34  38  43  67  69  87  87  93  97 689]\n",
      "['a' 'b' 'k' 'o']\n"
     ]
    }
   ],
   "source": [
    "a=np.array([12,34,67,32,87,34,38,97,24,93,4,689,69,3,2,43,87])\n",
    "b=np.sort(a)\n",
    "c=np.array(['b','o','k','a'])\n",
    "print (b)\n",
    "print (np.sort(c))"
   ]
  },
  {
   "cell_type": "markdown",
   "id": "8370ac68-ec47-4584-96c0-5783eae7a156",
   "metadata": {},
   "source": [
    "## Random in NumPy"
   ]
  },
  {
   "cell_type": "markdown",
   "id": "8cc4aca0-b6fd-4fae-91d2-b2d2b4a5d95a",
   "metadata": {},
   "source": [
    "Generating random integer between 0 and 100."
   ]
  },
  {
   "cell_type": "code",
   "execution_count": 102,
   "id": "e743863e-da78-48c0-b885-b340d85d8aa4",
   "metadata": {},
   "outputs": [
    {
     "name": "stdout",
     "output_type": "stream",
     "text": [
      "56\n"
     ]
    }
   ],
   "source": [
    "from numpy import random\n",
    "x=random.randint(100)\n",
    "print (x)"
   ]
  },
  {
   "cell_type": "markdown",
   "id": "1cd91f3d-92fd-4865-8a2c-b9d4084d8a9c",
   "metadata": {},
   "source": [
    "Generating random float between 0 to 1"
   ]
  },
  {
   "cell_type": "code",
   "execution_count": 111,
   "id": "62e6cb03-a418-4879-b07d-ceb7ed823df9",
   "metadata": {},
   "outputs": [
    {
     "name": "stdout",
     "output_type": "stream",
     "text": [
      "0.2777450541161067\n"
     ]
    }
   ],
   "source": [
    "y=random.rand()\n",
    "print(y)"
   ]
  },
  {
   "cell_type": "markdown",
   "id": "015a1b90-ee78-417b-b726-715665c78ec9",
   "metadata": {},
   "source": [
    "Generating random arrays"
   ]
  },
  {
   "cell_type": "code",
   "execution_count": 130,
   "id": "9a13c15f-3ee5-4965-a6fc-7ff0f4d747b7",
   "metadata": {},
   "outputs": [
    {
     "name": "stdout",
     "output_type": "stream",
     "text": [
      "[3111 4072 2798 4724 2235 2711 1110 2791 1517  984]\n",
      "[[2436 1513]\n",
      " [3751 2053]]\n",
      "[[[[1405 2127]\n",
      "   [ 992 2627]]\n",
      "\n",
      "  [[ 473 3411]\n",
      "   [ 143 3097]]]\n",
      "\n",
      "\n",
      " [[[1318 1787]\n",
      "   [3113   53]]\n",
      "\n",
      "  [[ 722  608]\n",
      "   [3530 4591]]]]\n"
     ]
    }
   ],
   "source": [
    "a=random.randint(5000,size=10) #Random 1D array\n",
    "print (a)\n",
    "b=random.randint(5000,size=(2,2)) #Random 2D array\n",
    "print (b)\n",
    "c=random.randint(5000,size=(2,2,2,2)) #Random 4D array\n",
    "print (c)"
   ]
  },
  {
   "cell_type": "markdown",
   "id": "38f71fcc-78f8-4baa-ac9c-9353b3106775",
   "metadata": {},
   "source": [
    "choice() method allows you to chose a random random from an existing set of arrays"
   ]
  },
  {
   "cell_type": "code",
   "execution_count": 132,
   "id": "cd03a3d9-6657-4778-8a19-726f61ff5a12",
   "metadata": {},
   "outputs": [
    {
     "name": "stdout",
     "output_type": "stream",
     "text": [
      "2711\n"
     ]
    }
   ],
   "source": [
    "x=random.choice(a)\n",
    "print (x)"
   ]
  },
  {
   "cell_type": "code",
   "execution_count": 135,
   "id": "74ed76fc-757f-44f5-b6f8-44d22001c31d",
   "metadata": {},
   "outputs": [
    {
     "name": "stdout",
     "output_type": "stream",
     "text": [
      "[[5 5 4]\n",
      " [4 3 3]\n",
      " [5 5 5]]\n"
     ]
    }
   ],
   "source": [
    "y=random.choice([3,4,5],size=(3,3))\n",
    "print (y)"
   ]
  },
  {
   "cell_type": "markdown",
   "id": "ea08c21d-13b2-4e16-b117-9ebaf314242c",
   "metadata": {},
   "source": [
    "## Probability in NumPy"
   ]
  },
  {
   "cell_type": "markdown",
   "id": "dc641f6c-5de4-4a23-81d1-3b73e6da7671",
   "metadata": {},
   "source": [
    "sum of all the probablity values must be equal to 1"
   ]
  },
  {
   "cell_type": "code",
   "execution_count": 154,
   "id": "ed2b24f1-53ac-4cf1-8c29-eef6c90a2b20",
   "metadata": {},
   "outputs": [
    {
     "name": "stdout",
     "output_type": "stream",
     "text": [
      "[[69 69 69  7 69]\n",
      " [69 69 69 69 69]\n",
      " [69  5 69 69 69]\n",
      " [69 69 69  5 69]\n",
      " [ 8 69  5 69 69]]\n"
     ]
    }
   ],
   "source": [
    "from numpy import random\n",
    "\n",
    "x = random.choice([3, 5, 7,8, 69], p=[0.05, 0.05,0.05, 0.05,0.8], size=(5,5))\n",
    "\n",
    "print(x)"
   ]
  },
  {
   "cell_type": "markdown",
   "id": "c96e14e3-8082-4b72-b253-313c25808e82",
   "metadata": {},
   "source": [
    "## Random Permutations"
   ]
  },
  {
   "cell_type": "markdown",
   "id": "d7bcc6f8-bac8-4556-8202-af1f0b81fcc7",
   "metadata": {},
   "source": [
    "randomly shuffles the elements of an array"
   ]
  },
  {
   "cell_type": "code",
   "execution_count": 158,
   "id": "437477ac-5d8c-4b7a-841c-f3add900fc0f",
   "metadata": {},
   "outputs": [
    {
     "name": "stdout",
     "output_type": "stream",
     "text": [
      "[95 81 51 82 45]\n",
      "[81 45 82 51 95]\n"
     ]
    }
   ],
   "source": [
    "a=random.randint(100,size=5)\n",
    "print (a)\n",
    "random.shuffle(a)\n",
    "print (a)"
   ]
  },
  {
   "cell_type": "markdown",
   "id": "a2a7112f-bdc1-4e4d-9ac3-0d017918fda9",
   "metadata": {},
   "source": [
    "shuffle() makes changes to original arays tho-"
   ]
  },
  {
   "cell_type": "code",
   "execution_count": 162,
   "id": "ea5835e5-7574-4a0c-a52c-caabd927a891",
   "metadata": {},
   "outputs": [
    {
     "name": "stdout",
     "output_type": "stream",
     "text": [
      "[4 5 6 7 8 3 1 9 2]\n"
     ]
    }
   ],
   "source": [
    "c=np.array([1,2,3,4,5,6,7,8,9])\n",
    "print(random.permutation(c))"
   ]
  },
  {
   "cell_type": "markdown",
   "id": "87c73bec-4e96-4798-a3ff-8861cf70851f",
   "metadata": {},
   "source": [
    "The permutation() rearranges the array and leaves the original array unchanged unlike what shuffle() does"
   ]
  },
  {
   "cell_type": "markdown",
   "id": "46ae93cd-9288-41dd-ad68-71a34cc3384f",
   "metadata": {},
   "source": [
    "## Seaborn"
   ]
  },
  {
   "cell_type": "code",
   "execution_count": 176,
   "id": "5e184d2c-cf06-411d-ae13-b03eaa023bcb",
   "metadata": {},
   "outputs": [
    {
     "name": "stderr",
     "output_type": "stream",
     "text": [
      "C:\\Users\\RAAJ\\AppData\\Local\\Temp\\ipykernel_23824\\2208582645.py:3: UserWarning: \n",
      "\n",
      "`distplot` is a deprecated function and will be removed in seaborn v0.14.0.\n",
      "\n",
      "Please adapt your code to use either `displot` (a figure-level function with\n",
      "similar flexibility) or `histplot` (an axes-level function for histograms).\n",
      "\n",
      "For a guide to updating your code to use the new functions, please see\n",
      "https://gist.github.com/mwaskom/de44147ed2974457ad6372750bbe5751\n",
      "\n",
      "  sns.distplot([0,1,2,3,4,5])\n"
     ]
    },
    {
     "data": {
      "image/png": "[encoded data removed]",
      "text/plain": [
       "<Figure size 640x480 with 1 Axes>"
      ]
     },
     "metadata": {},
     "output_type": "display_data"
    }
   ],
   "source": [
    "import matplotlib.pyplot as plt\n",
    "import seaborn as sns\n",
    "sns.distplot([0,1,2,3,4,5])\n",
    "plt.show()"
   ]
  },
  {
   "cell_type": "code",
   "execution_count": 181,
   "id": "91f2642b-dbb9-462d-9c93-dbf8d63d4d0c",
   "metadata": {},
   "outputs": [
    {
     "name": "stdout",
     "output_type": "stream",
     "text": [
      "[ 0.75637829  0.48135098 -1.61072375 -0.72830802 -0.71527963]\n",
      "[ 0.09923775 -0.0450332  -0.23105638  0.25954506  0.33324595]\n"
     ]
    },
    {
     "data": {
      "image/png": "[encoded data removed]",
      "text/plain": [
       "<Figure size 640x480 with 1 Axes>"
      ]
     },
     "metadata": {},
     "output_type": "display_data"
    }
   ],
   "source": [
    "x=random.normal(size=5)\n",
    "print(x)\n",
    "y=random.normal(size=5)\n",
    "print(y)\n",
    "plt.plot(y,x)\n",
    "plt.show()"
   ]
  },
  {
   "cell_type": "code",
   "execution_count": null,
   "id": "cd2d67b8-bc30-4adc-bd80-7f2db4be661f",
   "metadata": {},
   "outputs": [],
   "source": []
  }
 ],
 "metadata": {
  "kernelspec": {
   "display_name": "Python 3 (ipykernel)",
   "language": "python",
   "name": "python3"
  },
  "language_info": {
   "codemirror_mode": {
    "name": "ipython",
    "version": 3
   },
   "file_extension": ".py",
   "mimetype": "text/x-python",
   "name": "python",
   "nbconvert_exporter": "python",
   "pygments_lexer": "ipython3",
   "version": "3.12.4"
  }
 },
 "nbformat": 4,
 "nbformat_minor": 5
}
